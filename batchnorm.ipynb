{
 "cells": [
  {
   "cell_type": "code",
   "execution_count": 1,
   "metadata": {},
   "outputs": [],
   "source": [
    "import torch\n",
    "import matplotlib.pyplot as plt\n",
    "import torch.nn.functional as F\n",
    "%matplotlib inline"
   ]
  },
  {
   "cell_type": "code",
   "execution_count": 2,
   "metadata": {},
   "outputs": [
    {
     "name": "stdout",
     "output_type": "stream",
     "text": [
      "len(names)=32033\n"
     ]
    }
   ],
   "source": [
    "#Data:\n",
    "names = open(\"names.txt\").read().splitlines()\n",
    "print(f\"{len(names)=}\")\n",
    "\n",
    "# Build Vocab\n",
    "itos = {i+1:s for i,s in enumerate(sorted(set(\"\".join(names))))}\n",
    "itos[0] = '.'\n",
    "stoi = {s:i for i,s in itos.items()}"
   ]
  },
  {
   "cell_type": "code",
   "execution_count": 3,
   "metadata": {},
   "outputs": [],
   "source": [
    "#Data Set Creation:\n",
    "def create_data(names):\n",
    "    x, y = [], []\n",
    "    context_len = 3\n",
    "    xchar, ychar = [], []\n",
    "    buff = [0]*context_len\n",
    "    buff = [itos[b] for b in buff]\n",
    "    for name in names:\n",
    "        augmented_name = buff + list(name) + ['.']\n",
    "        for i in range(len(augmented_name)-context_len):\n",
    "            xi = augmented_name[i:i+context_len ]\n",
    "            yi = augmented_name[i+context_len]\n",
    "            #print(f\"{xi} -------> {yi}\")\n",
    "            xchar.append(xi)\n",
    "            ychar.append(yi)\n",
    "            x.append([stoi[d] for d in xi])\n",
    "            y.append(stoi[yi])\n",
    "    \n",
    "    return torch.tensor(x), torch.tensor(y)"
   ]
  },
  {
   "cell_type": "code",
   "execution_count": null,
   "metadata": {},
   "outputs": [
    {
     "data": {
      "text/plain": [
       "(25626, 3203, 3203)"
      ]
     },
     "execution_count": 4,
     "metadata": {},
     "output_type": "execute_result"
    }
   ],
   "source": [
    "#Create Minibathces:\n",
    "import random\n",
    "random.shuffle(names)\n",
    "\n",
    "train = int(0.8 * len(names))\n",
    "val = int(0.1 * len(names))\n",
    "test = int(0.1 * len(names))\n",
    "\n",
    "train, test, val"
   ]
  },
  {
   "cell_type": "code",
   "execution_count": 5,
   "metadata": {},
   "outputs": [],
   "source": [
    "Xtr, Ytr = create_data(names[:train])\n",
    "Xval, Yval = create_data(names[train:train+val])\n",
    "Xtest, Ytest = create_data(names[train+val:train+val+test])"
   ]
  },
  {
   "cell_type": "code",
   "execution_count": 52,
   "metadata": {},
   "outputs": [],
   "source": [
    "#This should work now\n",
    "class bmodel:\n",
    "    def __init__(self, X,Y, layers, emb_dim,context_len,bins):\n",
    "        self.X = X\n",
    "        self.Y = Y\n",
    "        self.lr = 0.1\n",
    "        self.layers = layers\n",
    "        self.emb_dim = emb_dim\n",
    "        self.bins = bins\n",
    "        self.context_len = context_len\n",
    "        self.params = []\n",
    "        self.batchsize = 32\n",
    "        self.iterations = 20000\n",
    "        self.losses = []\n",
    "\n",
    "\n",
    "    def _init_params(self):\n",
    "        self.C = torch.randn((self.bins,self.emb_dim),requires_grad=True) # This should give a lookup for every character\n",
    "        #print(self.C.shape)\n",
    "        #self.params.append(self.C)\n",
    "        prev = self.emb_dim * self.context_len\n",
    "        for layer in self.layers:\n",
    "            Wi = torch.randn((prev,layer),requires_grad=True)\n",
    "            #print(f\"{Wi.shape=}\")\n",
    "            bi = torch.randn((layer),requires_grad=True)\n",
    "            #print(f\"{bi.shape}\")\n",
    "            self.params.append((Wi, bi))\n",
    "            prev = layer\n",
    "\n",
    "\n",
    "    def forward(self, Xf,Yf):\n",
    "        emb = self.C[Xf]\n",
    "        H = emb.view(-1,self.emb_dim*self.context_len)\n",
    "        for Wi,bi in self.params:\n",
    "            H = torch.tanh(H@Wi+bi)\n",
    "        loss = F.cross_entropy(H,Yf)\n",
    "        return loss\n",
    "\n",
    "\n",
    "    def _backward(self):\n",
    "        # Zero Grad\n",
    "        self.C.grad = None\n",
    "        for Wi,bi in self.params:\n",
    "            Wi.grad = None\n",
    "            bi.grad = None\n",
    "\n",
    "        # Gradient Calculations\n",
    "        self.loss.backward()\n",
    "        \n",
    "        # Gradient Update\n",
    "        for Wi,bi in self.params:\n",
    "            #print(Wi.grad)\n",
    "            Wi.data += -self.lr * Wi.grad\n",
    "            bi.data += -self.lr * bi.grad\n",
    "        self.C.data += -self.lr * self.C.grad\n",
    "\n",
    "\n",
    "    def _splitdata(self):\n",
    "        random.shuffle(names)\n",
    "        train = int(0.8 * len(names))\n",
    "        val = int(0.1 * len(names))\n",
    "        test = int(0.1 * len(names))\n",
    "        self.Xtr, self.Ytr = create_data(names[:train])\n",
    "        self.Xval, self.Yval = create_data(names[train:train+val])\n",
    "        self.Xtest, self.Ytest = create_data(names[train+val:train+val+test])\n",
    "\n",
    "\n",
    "    def train(self):\n",
    "        self._splitdata()\n",
    "        self._init_params()\n",
    "        for _ in range(self.iterations):\n",
    "            self._minibatching()\n",
    "            self.loss = self.forward(self.Xmini,self.Ymini)\n",
    "            self._backward()\n",
    "            self.losses.append(self.loss.data)\n",
    "            if _ % 1000 == 0:\n",
    "                print(f\"Iter : {_} : Loss = {self.loss}\")\n",
    "        \n",
    "\n",
    "    def validation_loss(self):\n",
    "        return self.forward(self.Xval,self.Yval)\n",
    "            \n",
    "\n",
    "    def _minibatching(self):\n",
    "        idx = torch.randint(0,self.Xtr.shape[0],(32,))\n",
    "        self.Xmini = self.Xtr[idx]\n",
    "        self.Ymini = self.Ytr[idx]\n",
    "\n",
    "\n",
    "    def lr_tuning():\n",
    "        pass"
   ]
  },
  {
   "cell_type": "code",
   "execution_count": 53,
   "metadata": {},
   "outputs": [],
   "source": [
    "test_model = bmodel(X=Xtr,Y=Ytr,layers= [100,27],emb_dim=10,context_len=3,bins=27)"
   ]
  },
  {
   "cell_type": "code",
   "execution_count": 54,
   "metadata": {},
   "outputs": [
    {
     "name": "stdout",
     "output_type": "stream",
     "text": [
      "Iter : 0 : Loss = 3.666679620742798\n",
      "Iter : 1000 : Loss = 3.042316198348999\n",
      "Iter : 2000 : Loss = 2.934704303741455\n",
      "Iter : 3000 : Loss = 3.027878761291504\n",
      "Iter : 4000 : Loss = 2.6340794563293457\n",
      "Iter : 5000 : Loss = 2.568800449371338\n",
      "Iter : 6000 : Loss = 2.6920881271362305\n",
      "Iter : 7000 : Loss = 2.6604232788085938\n",
      "Iter : 8000 : Loss = 3.170217514038086\n",
      "Iter : 9000 : Loss = 2.9086031913757324\n",
      "Iter : 10000 : Loss = 2.902604103088379\n",
      "Iter : 11000 : Loss = 2.445444345474243\n",
      "Iter : 12000 : Loss = 2.5400476455688477\n",
      "Iter : 13000 : Loss = 2.7174365520477295\n",
      "Iter : 14000 : Loss = 2.9102203845977783\n",
      "Iter : 15000 : Loss = 2.7138419151306152\n",
      "Iter : 16000 : Loss = 2.7712221145629883\n",
      "Iter : 17000 : Loss = 2.5524613857269287\n",
      "Iter : 18000 : Loss = 2.6260719299316406\n",
      "Iter : 19000 : Loss = 2.642881155014038\n"
     ]
    }
   ],
   "source": [
    "test_model.train()"
   ]
  },
  {
   "cell_type": "code",
   "execution_count": 39,
   "metadata": {},
   "outputs": [
    {
     "data": {
      "text/plain": [
       "[<matplotlib.lines.Line2D at 0x2a2a1521290>]"
      ]
     },
     "execution_count": 39,
     "metadata": {},
     "output_type": "execute_result"
    },
    {
     "data": {
      "image/png": "[encoded data removed]",
      "text/plain": [
       "<Figure size 640x480 with 1 Axes>"
      ]
     },
     "metadata": {},
     "output_type": "display_data"
    }
   ],
   "source": [
    "plt.plot(range(test_model.iterations),test_model.losses)"
   ]
  },
  {
   "cell_type": "code",
   "execution_count": null,
   "metadata": {},
   "outputs": [],
   "source": [
    "#Okay now lets be professional and do this with PyTorch - like API\n",
    "# The idea is that every layer or class defined below can be \"called\" on the input x\n",
    "# And the params are sotred (and returned) using the layer.parameters() call \n",
    "# Even if we have no params, as in an activation function, the class will return an empty list\n",
    "# This is actually quite cool\n",
    "\n",
    "class Linear:\n",
    "    \n",
    "    def __init__(self, dim_in, dim_out, bias = True):\n",
    "        self.bias = bias\n",
    "        self.weight = torch.randn((dim_in,dim_out)) * 1/dim_in **2 # This is the kaiming normalization\n",
    "        self.bias = torch.randn(dim_out) if bias else None\n",
    "\n",
    "    def __call__(self,x):\n",
    "        self.out =  (x@ self.weight + (self.bias if self.bias else 0))\n",
    "        return self.out\n",
    "\n",
    "    def parameters(self):\n",
    "        return [self.weight] + ([self.bias] if self.bias else [])\n",
    "\n",
    "\n",
    "class BatchNorm1d:\n",
    "\n",
    "    def __init__(self, dim, eps = 1e-5, momentum = 0.1):\n",
    "        self.eps = eps # Don't know what this is\n",
    "        self.momentum = momentum # Do know what it is\n",
    "        \n",
    "        # Squeeze Factors (trained with backprop)\n",
    "        self.gamma = torch.ones(dim)\n",
    "        self.beta = torch.ones(dim)\n",
    "\n",
    "        # Training Time Tools\n",
    "        self.training = True \n",
    "\n",
    "        # Accumulators:s\n",
    "        self.global_mean = torch.zeros(dim)\n",
    "        self.global_var = torch.ones(dim) \n",
    "\n",
    "    def __call__(self,x):\n",
    "        if self.training:\n",
    "            xmean = x.mean(dim=0,keepdim = True)\n",
    "            xvar = x.var(dim=0,keepdim = True)\n",
    "        else:\n",
    "            xmean = self.global_mean\n",
    "            xvar = self.global_var\n",
    "\n",
    "        # So we \"whiten our batch\"\n",
    "        x_hat = (x - xmean)/ torch.sqrt(xvar + self.eps)\n",
    "\n",
    "        # And create another scaling + shifting linear function\n",
    "        self.out = self.gamma * x_hat + self.beta \n",
    "\n",
    "        # sprinkle in batch means and variance to capture population mean and var\n",
    "        if self.training:\n",
    "            with torch.no_grad():\n",
    "                self.global_mean = (1- self.momentum) * self.global_mean + self.momentum * xmean\n",
    "                self.global_var = (1 - self.momentum) * self.global_var + self.momentum * xvar\n",
    "        \n",
    "        return self.out\n",
    "\n",
    "\n",
    "    def parameters(self):\n",
    "        return [self.gamma, self.beta]\n",
    "    \n",
    "\n",
    "class Embedding:\n",
    "\n",
    "    def __init__(self,num_embeddings,embedding_dim):\n",
    "        self.weight = torch.randn(num_embeddings,embedding_dim)\n",
    "    \n",
    "    def __call__(self,IX):\n",
    "        self.out = self.weight[IX]\n",
    "        return self.out\n",
    "\n",
    "    def parameters(self):\n",
    "        return [self.weight]\n",
    "\n",
    "\n",
    "class Flatten:\n",
    "\n",
    "    def __call__(self,x):\n",
    "        self.out = x.view(x.shpae[0],-1)\n",
    "        return self.out\n",
    "    \n",
    "    def parameters(self):\n",
    "        return []\n",
    "\n",
    "\n",
    "class ReLU:\n",
    "\n",
    "    def __call__(self,x):\n",
    "        self.out = torch.ReLU(x)\n",
    "        return self.out\n",
    "\n",
    "    def parameters(self):\n",
    "        return []\n",
    "\n",
    "\n",
    "class Tanh:\n",
    "\n",
    "    def __call__(self,x):\n",
    "        self.out = torch.tanh(x)\n",
    "        return self.out\n",
    "    \n",
    "    def parameters(self):\n",
    "        return []\n"
   ]
  },
  {
   "cell_type": "code",
   "execution_count": 70,
   "metadata": {},
   "outputs": [
    {
     "name": "stdout",
     "output_type": "stream",
     "text": [
      "47024\n"
     ]
    }
   ],
   "source": [
    "#Lets define the net:\n",
    "n_embd = 10 # the dimensionality of the character embedding vectors\n",
    "n_hidden = 100 # the number of neurons in the hidden layer of the MLP\n",
    "g = torch.Generator().manual_seed(2147483647) # for reproducibility\n",
    "bins = 27\n",
    "context_len = 3 \n",
    "\n",
    "C = torch.randn((bins, n_embd),            generator=g)\n",
    "layers = [\n",
    "  Linear(n_embd * context_len, n_hidden, bias=False), BatchNorm1d(n_hidden), Tanh(),\n",
    "  Linear(           n_hidden, n_hidden, bias=False), BatchNorm1d(n_hidden), Tanh(),\n",
    "  Linear(           n_hidden, n_hidden, bias=False), BatchNorm1d(n_hidden), Tanh(),\n",
    "  Linear(           n_hidden, n_hidden, bias=False), BatchNorm1d(n_hidden), Tanh(),\n",
    "  Linear(           n_hidden, n_hidden, bias=False), BatchNorm1d(n_hidden), Tanh(),\n",
    "  Linear(           n_hidden, bins, bias=False), BatchNorm1d(bins),\n",
    "]\n",
    "\n",
    "\n",
    "with torch.no_grad():\n",
    "  # last layer: make less confident\n",
    "  layers[-1].gamma *= 0.1\n",
    "  #layers[-1].weight *= 0.1\n",
    "  # all other layers: apply gain\n",
    "  for layer in layers[:-1]:\n",
    "    if isinstance(layer, Linear):\n",
    "      layer.weight *= 1.0 #5/3\n",
    "\n",
    "parameters = [C] + [p for layer in layers for p in layer.parameters()]\n",
    "print(sum(p.nelement() for p in parameters)) # number of parameters in total\n",
    "for p in parameters:\n",
    "  p.requires_grad = True"
   ]
  },
  {
   "cell_type": "code",
   "execution_count": 71,
   "metadata": {},
   "outputs": [
    {
     "name": "stdout",
     "output_type": "stream",
     "text": [
      "      0/ 200000: 3.2958\n"
     ]
    }
   ],
   "source": [
    "### FROM KARPATHY:\n",
    "# same optimization as last time\n",
    "max_steps = 200000\n",
    "batch_size = 32\n",
    "lossi = []\n",
    "ud = []\n",
    "\n",
    "for i in range(max_steps):\n",
    "  \n",
    "  # minibatch construct\n",
    "  ix = torch.randint(0, Xtr.shape[0], (batch_size,), generator=g)\n",
    "  Xb, Yb = Xtr[ix], Ytr[ix] # batch X,Y\n",
    "  \n",
    "  # forward pass\n",
    "  emb = C[Xb] # embed the characters into vectors\n",
    "  x = emb.view(emb.shape[0], -1) # concatenate the vectors\n",
    "  for layer in layers:\n",
    "    x = layer(x)\n",
    "  loss = F.cross_entropy(x, Yb) # loss function\n",
    "  \n",
    "  # backward pass\n",
    "  for layer in layers:\n",
    "    layer.out.retain_grad() # AFTER_DEBUG: would take out retain_graph\n",
    "  for p in parameters:\n",
    "    p.grad = None\n",
    "  loss.backward()\n",
    "  \n",
    "  # update\n",
    "  lr = 0.1 if i < 150000 else 0.01 # step learning rate decay\n",
    "  for p in parameters:\n",
    "    p.data += -lr * p.grad\n",
    "\n",
    "  # track stats\n",
    "  if i % 10000 == 0: # print every once in a while\n",
    "    print(f'{i:7d}/{max_steps:7d}: {loss.item():.4f}')\n",
    "  lossi.append(loss.log10().item())\n",
    "  with torch.no_grad():\n",
    "    ud.append([((lr*p.grad).std() / p.data.std()).log10().item() for p in parameters])\n",
    "\n",
    "  if i >= 1000:\n",
    "    break # AFTER_DEBUG: would take out obviously to run full optimization"
   ]
  },
  {
   "cell_type": "code",
   "execution_count": null,
   "metadata": {},
   "outputs": [],
   "source": []
  },
  {
   "cell_type": "code",
   "execution_count": null,
   "metadata": {},
   "outputs": [],
   "source": []
  }
 ],
 "metadata": {
  "kernelspec": {
   "display_name": "torch",
   "language": "python",
   "name": "python3"
  },
  "language_info": {
   "codemirror_mode": {
    "name": "ipython",
    "version": 3
   },
   "file_extension": ".py",
   "mimetype": "text/x-python",
   "name": "python",
   "nbconvert_exporter": "python",
   "pygments_lexer": "ipython3",
   "version": "3.11.11"
  }
 },
 "nbformat": 4,
 "nbformat_minor": 2
}
